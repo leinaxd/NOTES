{
  "nbformat": 4,
  "nbformat_minor": 0,
  "metadata": {
    "colab": {
      "provenance": [],
      "authorship_tag": "ABX9TyNUuoCxd++9R2cLG0IsiM9J",
      "include_colab_link": true
    },
    "kernelspec": {
      "name": "python3",
      "display_name": "Python 3"
    },
    "language_info": {
      "name": "python"
    }
  },
  "cells": [
    {
      "cell_type": "markdown",
      "metadata": {
        "id": "view-in-github",
        "colab_type": "text"
      },
      "source": [
        "<a href=\"https://colab.research.google.com/github/leinaxd/NOTES/blob/main/digital_image_processing/notebooks/spatial_filter.ipynb\" target=\"_parent\"><img src=\"https://colab.research.google.com/assets/colab-badge.svg\" alt=\"Open In Colab\"/></a>"
      ]
    },
    {
      "cell_type": "code",
      "execution_count": null,
      "metadata": {
        "id": "h2OVOHoNrW_L"
      },
      "outputs": [],
      "source": [
        "\n",
        "import matplotlib.pyplot as plt\n",
        "import numpy as np\n",
        "import urllib.request"
      ]
    },
    {
      "cell_type": "code",
      "source": [
        "url = \"https://github.com/leinaxd/NOTES/raw/main/digital_image_processing/notebooks/bank.jpeg\"\n",
        "with urllib.request.urlopen(url) as url:\n",
        "    img = plt.imread(url, format='jpg')\n",
        "plt.imshow(img)\n",
        "plt.axis('off')\n",
        "\n",
        "print(img.shape)"
      ],
      "metadata": {
        "id": "v32EllOSrcux"
      },
      "execution_count": null,
      "outputs": []
    },
    {
      "cell_type": "code",
      "source": [
        "r_mask = img[:, :, 0]\n",
        "g_mask = img[:, :, 1]\n",
        "b_mask = img[:, :, 2]\n",
        "\n",
        "#turn image to gray\n",
        "img = r_mask*0.2989 + g_mask*0.5870 + b_mask*0.1140"
      ],
      "metadata": {
        "id": "MtBeAiYiredb"
      },
      "execution_count": null,
      "outputs": []
    },
    {
      "cell_type": "code",
      "source": [],
      "metadata": {
        "id": "w3eYdCLYrvv-"
      },
      "execution_count": null,
      "outputs": []
    }
  ]
}