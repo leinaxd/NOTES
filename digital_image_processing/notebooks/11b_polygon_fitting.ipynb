{
  "nbformat": 4,
  "nbformat_minor": 0,
  "metadata": {
    "colab": {
      "provenance": [],
      "authorship_tag": "ABX9TyOorlC3J33RE6fN0fim5y5+",
      "include_colab_link": true
    },
    "kernelspec": {
      "name": "python3",
      "display_name": "Python 3"
    },
    "language_info": {
      "name": "python"
    }
  },
  "cells": [
    {
      "cell_type": "markdown",
      "metadata": {
        "id": "view-in-github",
        "colab_type": "text"
      },
      "source": [
        "<a href=\"https://colab.research.google.com/github/leinaxd/NOTES/blob/main/digital_image_processing/notebooks/11b_polygon_fitting.ipynb\" target=\"_parent\"><img src=\"https://colab.research.google.com/assets/colab-badge.svg\" alt=\"Open In Colab\"/></a>"
      ]
    },
    {
      "cell_type": "markdown",
      "source": [
        "source"
      ],
      "metadata": {
        "id": "CIniehdLojH6"
      }
    },
    {
      "cell_type": "code",
      "source": [
        "import numpy as np\n",
        "import matplotlib.pyplot as plt\n",
        "plt.style.use('dark_background')\n",
        "\n",
        "img = np.array(\n",
        "    [[0,0,0,0,0,0,0,0,0],\n",
        "     [0,0,0,1,0,0,0,0,0],\n",
        "     [0,0,1,0,0,1,0,0,0],\n",
        "     [0,0,1,0,0,0,1,0,0],\n",
        "     [0,1,0,0,0,0,0,1,0],\n",
        "     [0,0,1,0,0,1,0,0,0],\n",
        "     [0,0,0,0,1,0,0,0,0],\n",
        "     [0,0,0,0,0,0,0,0,0],\n",
        "     [0,0,0,0,0,0,0,0,0]])\n",
        "plt.figure(figsize=(7,7))\n",
        "plt.imshow(img, cmap='gray')\n",
        "plt.text(1,4,'A',color='k')\n",
        "plt.text(7,4,'B',color='k')\n",
        "plt.text(3,1,'C',color='k')\n",
        "plt.text(4,6,'D',color='k')\n",
        "plt.axis('off');"
      ],
      "metadata": {
        "colab": {
          "base_uri": "https://localhost:8080/",
          "height": 576
        },
        "id": "8QGBfLADyyHB",
        "outputId": "e9d8c32d-5359-4510-8003-8c7e826460e5"
      },
      "execution_count": 8,
      "outputs": [
        {
          "output_type": "display_data",
          "data": {
            "text/plain": [
              "<Figure size 700x700 with 1 Axes>"
            ],
            "image/png": "[encoded data removed]"
          },
          "metadata": {}
        }
      ]
    },
    {
      "cell_type": "markdown",
      "source": [
        "Ramer–Douglas–Peucker algorithm (Polygon fitting)\n",
        "- Usefull for finding polygons like triangles, rectangles in the picture\n",
        "- for example in vision, you can frame entities as a pre-processor\n",
        "- Also usefull for tracing a river"
      ],
      "metadata": {
        "id": "wlh4kH9d2_MH"
      }
    },
    {
      "cell_type": "code",
      "source": [
        "def polygon_fitting(img, T, closed=True):\n",
        "    \"\"\"A: starting point, B Ending point, T:threshold\n",
        "    Note: If the curve is open, A,B are the natural endpoints\n",
        "          if the curve is closed, A,B are the leftmost & rightmost points\n",
        "          - Require an ordered list of points (ie. after boundary following algorithm)\n",
        "    \"\"\"\n",
        "    # Collect the points of the image\n",
        "    points = []\n",
        "    for r in range(img.shape[0]):\n",
        "        for c in range(img.shape[1]):\n",
        "            if img[r,c]==1: points.append((r,c))\n",
        "    points = np.array(points)\n",
        "\n",
        "    #find the leftmost & rightmost points (col dimension)\n",
        "    A, B = 0, 0\n",
        "    for ix, p in enumerate(points):\n",
        "        if p[1]<points[A][1]: A = ix\n",
        "        if p[1]>points[B][1]: B = ix\n",
        "    \n",
        "    #Define 2 stacks\n",
        "    final = [B]\n",
        "    if closed:  in_process = [B,A] \n",
        "    else:       in_process = [A]\n",
        "\n",
        "    #iterate\n",
        "    while len(in_process) > 0:\n",
        "        A = points[in_process[-1]]\n",
        "        B = points[final[-1]]\n",
        "\n",
        "        d_max = 0\n",
        "        next_point = None\n",
        "        # for i in range(len(points)):\n",
        "        for i in range(in_process[-1], final[-1]):\n",
        "            p = points[i]\n",
        "\n",
        "            d = np.linalg.norm(np.cross(B - A, p - A)) / np.linalg.norm(B - A)\n",
        "            print(A,B, i, p, d)\n",
        "            if d > d_max:\n",
        "                d_max = d\n",
        "                next_point = i\n",
        "        # print(points[next_point])\n",
        "        if d_max >=T:\n",
        "            print('D>T')\n",
        "            in_process.append(next_point)\n",
        "        else:\n",
        "            p = in_process.pop()\n",
        "            final.append(p)\n",
        "\n",
        "\n",
        "    return np.array([points[p] for p in final])\n",
        "\n",
        "simplified_points = polygon_fitting(img, T=0.5)\n",
        "lines = simplified_points\n",
        "plt.imshow(img, cmap='gray')\n",
        "plt.plot(lines.T[1], lines.T[0])\n",
        "plt.ylim([img.shape[1],0])\n",
        "plt.text(1,4,'A',color='k')\n",
        "plt.text(7,4,'B',color='k')\n",
        "plt.text(3,1,'C',color='k')\n",
        "plt.text(4,6,'D',color='k');"
      ],
      "metadata": {
        "colab": {
          "base_uri": "https://localhost:8080/",
          "height": 453
        },
        "id": "CLvNHQkIyuKn",
        "outputId": "80578218-7593-4714-caa5-2eba426f86dc"
      },
      "execution_count": 246,
      "outputs": [
        {
          "output_type": "stream",
          "name": "stdout",
          "text": [
            "[4 1] [4 7] 5 [4 1] 0.0\n"
          ]
        },
        {
          "output_type": "display_data",
          "data": {
            "text/plain": [
              "<Figure size 640x480 with 1 Axes>"
            ],
            "image/png": "[encoded data removed]"
          },
          "metadata": {}
        }
      ]
    },
    {
      "cell_type": "code",
      "source": [
        "import numpy as np\n",
        "\n",
        "def boundary_points(img):\n",
        "    # Collect the points of the image\n",
        "    # ordered from leftmost to rightmost (col dimension)\n",
        "    points = []\n",
        "    for c in range(img.shape[1]):\n",
        "        for r in range(img.shape[0]):\n",
        "            if img[r,c]==1: points.append((r,c))     \n",
        "    #sort by proximity in a counterclockwise manner\n",
        "    sorted_points = []\n",
        "    sorted_points.append(points.pop(0))\n",
        "    while len(points) > 0:\n",
        "        n = np.array(points)\n",
        "        dn = n-np.array(sorted_points[-1])\n",
        "        norm_dn = np.abs(dn).sum(1)\n",
        "        ix = norm_dn.argmin()\n",
        "        sorted_points.append(points.pop(ix))\n",
        "    return np.array(sorted_points)\n",
        "\n",
        "def polygon_fitting(points, T):\n",
        "    stack = [(0, len(points) - 1)]     \n",
        "    simplified_points = [points[0]]\n",
        "    while len(stack) > 0:\n",
        "        start, end = stack.pop()  \n",
        "        d_max = 0\n",
        "        index = 0\n",
        "        A = points[start] #start point\n",
        "        B = points[end]   #end point\n",
        "\n",
        "        #iterate those points between start and end\n",
        "        for i in range(start+1, end):\n",
        "            p = points[i] #current_point\n",
        "            d = np.abs(np.cross(B - A, p - A))/np.linalg.norm(B-A)\n",
        "            if d > d_max:\n",
        "                d_max = d\n",
        "                index = i\n",
        "        if d_max > T:\n",
        "            stack.append((start, index))  # Add the left subcurve indices to the stack\n",
        "            stack.append((index, end))  # Add the right subcurve indices to the stack\n",
        "        else:\n",
        "            simplified_points.append(points[start])  # Add the start point to the simplified curve\n",
        "            simplified_points.append(points[end])  # Add the end point to the simplified curve\n",
        "\n",
        "    return np.array(simplified_points)\n",
        "\n",
        "points = boundary_points(img)\n",
        "plt.plot(points[:,1], points[:,0])\n",
        "plt.figure()\n",
        "s_points = polygon_fitting(points, T=1)\n",
        "plt.imshow(img, cmap='gray')\n",
        "plt.plot(s_points[:,1], s_points[:,0])\n",
        "plt.text(1,4,'A',color='k')\n",
        "plt.text(7,4,'B',color='k')\n",
        "plt.text(3,1,'C',color='k')\n",
        "plt.text(4,6,'D',color='k');"
      ],
      "metadata": {
        "id": "BvakiPnIOi4h"
      },
      "execution_count": null,
      "outputs": []
    },
    {
      "cell_type": "markdown",
      "source": [],
      "metadata": {
        "id": "FvuQNy1WY6Yn"
      }
    },
    {
      "cell_type": "code",
      "source": [
        "\n",
        "import numpy as np\n",
        "import matplotlib.pyplot as plt\n",
        "\n",
        "def polygon_fitting(img, T, closed=True):\n",
        "    \"\"\"A: starting point, B: ending point, T: threshold\n",
        "    Note: If the curve is open, A, B are the natural endpoints\n",
        "          if the curve is closed, A, B are the leftmost & rightmost points\n",
        "    \"\"\"\n",
        "    P = []\n",
        "    for c in range(img.shape[1]):\n",
        "        for r in range(img.shape[0]):\n",
        "            if img[r, c] == 1:\n",
        "                P.append((r, c))\n",
        "    A = P[0]\n",
        "    B = P[-1]\n",
        "\n",
        "    final = [B]\n",
        "    if closed:\n",
        "        in_process = [B, A]  # note if closed\n",
        "    else:\n",
        "        in_process = [A]\n",
        "\n",
        "   \n",
        "    while len(in_process) != 0:\n",
        "        A = final[-1]\n",
        "        B = in_process[-1]\n",
        "\n",
        "        max_dist = 0\n",
        "        next_point = None\n",
        "        for p in P:\n",
        "            # Is the point between A and B?\n",
        "            p = np.array(p)\n",
        "            A = np.array(A)\n",
        "            B = np.array(B)\n",
        "            projection = np.dot(p - A, B - A) / (np.linalg.norm(B - A) ** 2+1E-10)\n",
        "            if projection < 0 or projection > 1: continue\n",
        "            \n",
        "            min_dist = np.linalg.norm(p - projection * (B - A))\n",
        "            if min_dist > max_dist:\n",
        "                max_dist = min_dist\n",
        "                next_point = p\n",
        "\n",
        "        if max_dist >= T:\n",
        "            in_process.append(next_point)\n",
        "            P = [point for point in P if not np.array_equal(point, next_point)]\n",
        "        else:\n",
        "            p = in_process.pop()\n",
        "            final.append(p)\n",
        "\n",
        "    return np.array(final)\n",
        "\n",
        "# Example usage\n",
        "s_points = polygon_fitting(img, T=2)\n",
        "plt.imshow(img, cmap='gray')\n",
        "plt.plot(s_points[:,1], s_points[:,0])\n",
        "plt.text(1,4,'A',color='k')\n",
        "plt.text(7,4,'B',color='k')\n",
        "plt.text(3,1,'C',color='k')\n",
        "plt.text(4,6,'D',color='k');"
      ],
      "metadata": {
        "id": "nfZywyfl76GI",
        "outputId": "6373df72-8cd5-4a17-8d6c-b54674373470",
        "colab": {
          "base_uri": "https://localhost:8080/",
          "height": 430
        }
      },
      "execution_count": 252,
      "outputs": [
        {
          "output_type": "display_data",
          "data": {
            "text/plain": [
              "<Figure size 640x480 with 1 Axes>"
            ],
            "image/png": "[encoded data removed]"
          },
          "metadata": {}
        }
      ]
    }
  ]
}