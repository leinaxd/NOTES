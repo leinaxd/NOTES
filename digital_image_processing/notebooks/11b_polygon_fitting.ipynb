{
  "nbformat": 4,
  "nbformat_minor": 0,
  "metadata": {
    "colab": {
      "provenance": [],
      "authorship_tag": "ABX9TyPge0ZEOW3CyY2LoGcTyzyl",
      "include_colab_link": true
    },
    "kernelspec": {
      "name": "python3",
      "display_name": "Python 3"
    },
    "language_info": {
      "name": "python"
    }
  },
  "cells": [
    {
      "cell_type": "markdown",
      "metadata": {
        "id": "view-in-github",
        "colab_type": "text"
      },
      "source": [
        "<a href=\"https://colab.research.google.com/github/leinaxd/NOTES/blob/main/digital_image_processing/notebooks/11b_polygon_fitting.ipynb\" target=\"_parent\"><img src=\"https://colab.research.google.com/assets/colab-badge.svg\" alt=\"Open In Colab\"/></a>"
      ]
    },
    {
      "cell_type": "markdown",
      "source": [
        "source"
      ],
      "metadata": {
        "id": "CIniehdLojH6"
      }
    },
    {
      "cell_type": "code",
      "source": [
        "import numpy as np\n",
        "import matplotlib.pyplot as plt\n",
        "plt.style.use('dark_background')\n",
        "\n",
        "img = np.array(\n",
        "    [[0,0,0,0,0,0,0,0,0],\n",
        "     [0,0,0,1,0,0,0,0,0],\n",
        "     [0,0,1,0,0,1,0,0,0],\n",
        "     [0,0,1,0,0,0,1,0,0],\n",
        "     [0,1,0,0,0,0,0,1,0],\n",
        "     [0,0,1,0,0,1,0,0,0],\n",
        "     [0,0,0,0,1,0,0,0,0],\n",
        "     [0,0,0,0,0,0,0,0,0],\n",
        "     [0,0,0,0,0,0,0,0,0]])\n",
        "plt.figure(figsize=(7,7))\n",
        "plt.imshow(img, cmap='gray')\n",
        "plt.text(1,4,'A',color='k')\n",
        "plt.text(7,4,'B',color='k')\n",
        "plt.text(3,1,'C',color='k')\n",
        "plt.text(4,6,'D',color='k')\n",
        "plt.axis('off');"
      ],
      "metadata": {
        "id": "8QGBfLADyyHB",
        "outputId": "ee3826b8-54c7-4871-c08d-6a2f61c3eadb",
        "colab": {
          "base_uri": "https://localhost:8080/",
          "height": 576
        }
      },
      "execution_count": 122,
      "outputs": [
        {
          "output_type": "display_data",
          "data": {
            "text/plain": [
              "<Figure size 700x700 with 1 Axes>"
            ],
            "image/png": "[encoded data removed]"
          },
          "metadata": {}
        }
      ]
    },
    {
      "cell_type": "markdown",
      "source": [
        "Polygon fitting"
      ],
      "metadata": {
        "id": "wlh4kH9d2_MH"
      }
    },
    {
      "cell_type": "code",
      "source": [
        "def polygon_fitting(img, A, B, T, closed=True):\n",
        "    \"\"\"A: starting point, B Ending point, T:threshold\n",
        "    Note: If the curve is open, A,B are the natural endpoints\n",
        "          if the curve is closed, A,B are the leftmost & rightmost points\n",
        "    \"\"\"\n",
        "    P = []\n",
        "    for r in range(img.shape[0]):\n",
        "        for c in range(img.shape[1]):\n",
        "            if img[r,c]==1: P.append((r,c))\n",
        "\n",
        "    final = [B]\n",
        "    if closed:\n",
        "        in_process = [B,A] #note if closed\n",
        "    else: in_process = [A]\n",
        "\n",
        "    nLineSteps = 10\n",
        "    lines = []\n",
        "    \n",
        "    while len(in_process) !=0:\n",
        "        A = final[-1]\n",
        "        B = in_process[-1]\n",
        "        line = np.linspace(A,B, nLineSteps)\n",
        "        lines.append(line)\n",
        "\n",
        "        max_dist = 0\n",
        "        next_point = None\n",
        "        center = (0.5*(B[0]-A[0]), 0.5*(B[1]-A[1]))\n",
        "        rad = (0.5*(B[0]+A[0]), 0.5*(B[1]+A[1]))\n",
        "        for i, p in enumerate(P):\n",
        "            #Is the point between A and B?\n",
        "            if abs(p[0]-center[0])+abs(p[1]-center[1]) > abs(rad[0]+rad[1]): continue\n",
        "            \n",
        "            min_dist = float('inf') #min dist line to point (projection)\n",
        "            for l in line: #it has to be done with linear algebra\n",
        "                new_dist = abs(p[0]-l[0]) + abs(p[1]-l[1]) #norm_1 against points in the line\n",
        "                if new_dist < min_dist: min_dist = new_dist\n",
        "            if min_dist > max_dist:\n",
        "                max_dist = min_dist\n",
        "                next_point = i\n",
        "                print(p)\n",
        "        if max_dist >= T: \n",
        "            in_process.append(P.pop(next_point))\n",
        "        else:\n",
        "            p = in_process.pop()\n",
        "            final.append(p)\n",
        "            print('removing:', p)\n",
        "            lines.pop()\n",
        "        # print(max_dist, in_process[-1])\n",
        "\n",
        "    return np.array(lines)\n",
        "\n",
        "lines = polygon_fitting(img, A=(4,1), B=(4,7), T=0.5)\n",
        "\n",
        "plt.scatter(lines.T[1], lines.T[0])\n",
        "plt.text(1,4,'A')\n",
        "plt.text(7,4,'B')\n",
        "plt.text(3,1,'C')\n",
        "plt.text(4,6,'D');"
      ],
      "metadata": {
        "id": "CLvNHQkIyuKn",
        "outputId": "107b2476-4327-4275-b883-5fe8eacbfd48",
        "colab": {
          "base_uri": "https://localhost:8080/",
          "height": 848
        }
      },
      "execution_count": 126,
      "outputs": [
        {
          "output_type": "stream",
          "name": "stdout",
          "text": [
            "(1, 3)\n",
            "(2, 2)\n",
            "removing: (2, 2)\n",
            "removing: (1, 3)\n",
            "(3, 2)\n",
            "removing: (4, 1)\n",
            "(2, 5)\n",
            "(6, 4)\n",
            "(2, 5)\n",
            "(3, 2)\n",
            "(5, 2)\n",
            "(3, 2)\n",
            "removing: (3, 2)\n",
            "(4, 1)\n",
            "removing: (4, 1)\n",
            "removing: (5, 2)\n",
            "removing: (2, 5)\n",
            "(3, 6)\n",
            "removing: (3, 6)\n",
            "(5, 5)\n",
            "removing: (6, 4)\n",
            "(5, 5)\n",
            "removing: (4, 7)\n"
          ]
        },
        {
          "output_type": "display_data",
          "data": {
            "text/plain": [
              "<Figure size 640x480 with 1 Axes>"
            ],
            "image/png": "[encoded data removed]"
          },
          "metadata": {}
        }
      ]
    },
    {
      "cell_type": "markdown",
      "source": [
        "CHATGPT"
      ],
      "metadata": {
        "id": "JCXpWhz3OJVV"
      }
    },
    {
      "cell_type": "code",
      "source": [
        "import numpy as np\n",
        "import matplotlib.pyplot as plt\n",
        "\n",
        "def polygon_fitting(img, A, B, T, closed=True):\n",
        "    \"\"\"A: starting point, B: ending point, T: threshold\n",
        "    Note: If the curve is open, A, B are the natural endpoints\n",
        "          if the curve is closed, A, B are the leftmost & rightmost points\n",
        "    \"\"\"\n",
        "    P = []\n",
        "    for r in range(img.shape[0]):\n",
        "        for c in range(img.shape[1]):\n",
        "            if img[r, c] == 1:\n",
        "                P.append((r, c))\n",
        "\n",
        "    final = [B]\n",
        "    if closed:\n",
        "        in_process = [B, A]  # note if closed\n",
        "    else:\n",
        "        in_process = [A]\n",
        "\n",
        "    nLineSteps = 10\n",
        "    lines = []\n",
        "    \n",
        "    while len(in_process) != 0:\n",
        "        A = final[-1]\n",
        "        B = in_process[-1]\n",
        "        line = np.linspace(A, B, nLineSteps)\n",
        "        lines.append(line)\n",
        "\n",
        "        max_dist = 0\n",
        "        next_point = None\n",
        "        for p in P:\n",
        "            # Is the point between A and B?\n",
        "            p = np.array(p)\n",
        "            A = np.array(A)\n",
        "            B = np.array(B)\n",
        "            projection = np.dot(p - A, B - A) / np.linalg.norm(B - A) ** 2\n",
        "            if projection < 0 or projection > 1:\n",
        "                continue\n",
        "            min_dist = np.linalg.norm(p - projection * (B - A))\n",
        "            if min_dist > max_dist:\n",
        "                max_dist = min_dist\n",
        "                next_point = p\n",
        "\n",
        "        if max_dist >= T:\n",
        "            in_process.append(next_point)\n",
        "            P = [point for point in P if not np.array_equal(point, next_point)]\n",
        "        else:\n",
        "            p = in_process.pop()\n",
        "            final.append(p)\n",
        "            lines.pop()\n",
        "\n",
        "    return np.array(lines)\n",
        "\n",
        "# Example usage\n",
        "img_2 = np.zeros((10, 10))\n",
        "img_2[2:8, 4:6] = 1\n",
        "lines = polygon_fitting(img_2, A=(4,1), B=(4,7), T=0.5)\n",
        "\n",
        "plt.scatter(lines.T[1], lines.T[0])\n",
        "plt.text(1, 4, 'A')\n",
        "plt.text(7, 4, 'B')\n",
        "plt.text(3, 1, 'C')\n",
        "plt.text(4, 6, 'D');"
      ],
      "metadata": {
        "id": "5Mle-K5uN_rZ",
        "outputId": "c6295283-39bc-4cc1-9550-2a45bf07b573",
        "colab": {
          "base_uri": "https://localhost:8080/",
          "height": 478
        }
      },
      "execution_count": 125,
      "outputs": [
        {
          "output_type": "execute_result",
          "data": {
            "text/plain": [
              "Text(4, 6, 'D')"
            ]
          },
          "metadata": {},
          "execution_count": 125
        },
        {
          "output_type": "display_data",
          "data": {
            "text/plain": [
              "<Figure size 640x480 with 1 Axes>"
            ],
            "image/png": "[encoded data removed]"
          },
          "metadata": {}
        }
      ]
    }
  ]
}