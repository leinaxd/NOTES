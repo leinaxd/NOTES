{
  "nbformat": 4,
  "nbformat_minor": 0,
  "metadata": {
    "colab": {
      "provenance": [],
      "authorship_tag": "ABX9TyMe8IGyK7LrLp2ZiQQraEJK",
      "include_colab_link": true
    },
    "kernelspec": {
      "name": "python3",
      "display_name": "Python 3"
    },
    "language_info": {
      "name": "python"
    }
  },
  "cells": [
    {
      "cell_type": "markdown",
      "metadata": {
        "id": "view-in-github",
        "colab_type": "text"
      },
      "source": [
        "<a href=\"https://colab.research.google.com/github/leinaxd/NOTES/blob/main/digital_image_processing/notebooks/9_unitary_transforms.ipynb\" target=\"_parent\"><img src=\"https://colab.research.google.com/assets/colab-badge.svg\" alt=\"Open In Colab\"/></a>"
      ]
    },
    {
      "cell_type": "code",
      "execution_count": null,
      "metadata": {
        "id": "h2OVOHoNrW_L"
      },
      "outputs": [],
      "source": [
        "import matplotlib.pyplot as plt\n",
        "import numpy as np\n",
        "import urllib.request"
      ]
    },
    {
      "cell_type": "code",
      "source": [
        "url = \"https://github.com/leinaxd/NOTES/raw/main/digital_image_processing/notebooks/bank.jpeg\"\n",
        "with urllib.request.urlopen(url) as url:\n",
        "    img = plt.imread(url, format='jpg')\n",
        "plt.imshow(img)\n",
        "plt.axis('off')\n",
        "\n",
        "print(img.shape)"
      ],
      "metadata": {
        "id": "v32EllOSrcux"
      },
      "execution_count": null,
      "outputs": []
    },
    {
      "cell_type": "code",
      "source": [
        "r_mask = img[:, :, 0]\n",
        "g_mask = img[:, :, 1]\n",
        "b_mask = img[:, :, 2]\n",
        "\n",
        "#turn image to gray\n",
        "g_img = r_mask*0.2989 + g_mask*0.5870 + b_mask*0.1140\n",
        "u_img = np.uint8(g_img)"
      ],
      "metadata": {
        "id": "MtBeAiYiredb"
      },
      "execution_count": null,
      "outputs": []
    },
    {
      "cell_type": "markdown",
      "source": [
        "# Basis Functions"
      ],
      "metadata": {
        "id": "HtfNH1emH8q0"
      }
    },
    {
      "cell_type": "markdown",
      "source": [
        "Sources:\n",
        "\n",
        "- https://users.cs.cf.ac.uk/dave/Multimedia/node231.html"
      ],
      "metadata": {
        "id": "OntFTwFhe2NK"
      }
    },
    {
      "cell_type": "markdown",
      "source": [
        "1. show all basis functions (spatial, fourier, cosine, sine, hadamart, haart)\n",
        "2. Show the contribution of each basis on the image\n",
        "3. Get the 90% most energetic components\n",
        "4. iterate an image, appending one coefficient a time. you should see an increase of resolution."
      ],
      "metadata": {
        "id": "rWPUkXPSXapT"
      }
    },
    {
      "cell_type": "code",
      "source": [
        "from scipy import ndimage\n",
        "plt.style.use('dark_background')\n",
        "\n",
        "NFFT = 8\n",
        "# perc=.9 #which coeficients have 90% energy\n",
        "im = np.zeros((8,8))\n",
        "im[4,4]=1\n",
        "im = ndimage.gaussian_filter(im, sigma=1)\n",
        "\n",
        "plt.imshow(im, cmap='gray')\n",
        "plt.title('original image')\n",
        "plt.axis('off');"
      ],
      "metadata": {
        "id": "AGaT8qclH_AC"
      },
      "execution_count": null,
      "outputs": []
    },
    {
      "cell_type": "markdown",
      "source": [
        "- Spatial Basis\n",
        "- Fourier Basis\n",
        "- Discrete Cosine Basis\n",
        "- Discrete Sine Basis\n",
        "- Hadamart Basis\n",
        "- Haar Basis"
      ],
      "metadata": {
        "id": "tHdfZbNeB0Eu"
      }
    },
    {
      "cell_type": "code",
      "source": [
        "\"\"\"\n",
        "Note. \n",
        "    - A is a 1D basis matrix, where each row Au is one vector\n",
        "    - The 2D Basis B is constructed via Au, Av 1D vectors\n",
        "    - Au, Av are vectors, while B is a matrix\n",
        "    - You get the projection coefficient with an image by multplying Au@im@Av.T (dot product)\n",
        "    - While you get the 2D basis via B = Au@Av (outer product)\n",
        "\n",
        "\"\"\"\n",
        "def basis_spatial(u, v, NFFT, im=None):\n",
        "    H = np.eye(NFFT,dtype=float)\n",
        "    Au = H[[u], :]\n",
        "    Av = H[[v], :]\n",
        "    # Au = np.zeros((NFFT, NFFT))\n",
        "    # Av = np.zeros((NFFT, NFFT))\n",
        "    # Au[u, :] = 1\n",
        "    # Av[v, :] = 1\n",
        "    # fn = Au*Av\n",
        "    # fn = np.zeros((NFFT, NFFT))\n",
        "    # fn[m, n] = 1.0\n",
        "    B = Au.T@Av\n",
        "    if im is not None: return B, Au@im@Av.T\n",
        "    else:              return B\n",
        "\n",
        "def basis_fourier(u,v, NFFT, im=None):\n",
        "    X = np.arange(NFFT)\n",
        "    Y = np.arange(NFFT)\n",
        "    x, y = np.meshgrid(X, Y)\n",
        "    A = np.exp(-2j*np.pi * x*y/NFFT)\n",
        "    Au = A[[u], :]\n",
        "    Av = A[[v], :]\n",
        "    # Au = np.exp(-2j*np.pi * u/NFFT*x)\n",
        "    # Av = np.exp(-2j*np.pi * v/NFFT*y)\n",
        "    # fn = Au*Av\n",
        "    # fn = np.real(fn)\n",
        "    # return fn\n",
        "    B = Au.T@Av\n",
        "    B = np.real(B)\n",
        "    if im is not None: return B, Au@im@Av.T\n",
        "    else:              return B\n",
        "    \n",
        "def basis_cosine(u, v, NFFT, im=None):\n",
        "    # Au = np.zeros((NFFT, NFFT))\n",
        "    # Av = np.zeros((NFFT, NFFT))\n",
        "    # Au[0, :] = 1/np.sqrt(NFFT)\n",
        "    # Av[0, :] = 1/np.sqrt(NFFT)\n",
        "    # for n in range(NFFT):\n",
        "    #     Au[n,:] = np.sqrt(2/NFFT) * np.cos(np.pi/NFFT*u*(n+1/2))\n",
        "    #     Av[n,:] = np.sqrt(2/NFFT) * np.cos(np.pi/NFFT*v*(n+1/2))\n",
        "    # Av = Av.T\n",
        "    # return Au*Av\n",
        "    A = np.zeros((NFFT, NFFT))\n",
        "    A[0, :] = 1/np.sqrt(NFFT)\n",
        "    for k in range(1,NFFT):\n",
        "        for i in range(NFFT):\n",
        "            A[k,i] = np.sqrt(2/NFFT) * np.cos(np.pi/NFFT*k*(i+1/2))\n",
        "    Au = A[[u], :]\n",
        "    Av = A[[v], :]\n",
        "    B = Au.T@Av\n",
        "    if im is not None: return B, Au@im@Av.T\n",
        "    else:              return B\n",
        "\n",
        "def basis_sine(u, v, NFFT, im=None):\n",
        "    # Au = np.zeros((NFFT, NFFT))\n",
        "    # Av = np.zeros((NFFT, NFFT))\n",
        "    # for n in range(NFFT):\n",
        "    #     Au[n,:] = np.sqrt(2/(NFFT+1)) * np.sin(np.pi/(NFFT+1)*(u+1)*(n+1))\n",
        "    #     Av[n,:] = np.sqrt(2/(NFFT+1)) * np.sin(np.pi/(NFFT+1)*(v+1)*(n+1))\n",
        "    # Av = Av.T\n",
        "    # return Au*Av\n",
        "    A = np.zeros((NFFT, NFFT))\n",
        "    for k in range(NFFT):\n",
        "        for i in range(NFFT):\n",
        "            A[k,i] = np.sqrt(2/(NFFT+1)) * np.sin(np.pi/(NFFT+1)*(i+1)*(k+1))\n",
        "    Au = A[[u], :]\n",
        "    Av = A[[v], :]\n",
        "    B = Au.T@Av\n",
        "    if im is not None: return B, Au@im@Av.T\n",
        "    else:              return B\n",
        "def basis_hadamard(u, v, NFFT,im=None):\n",
        "    A = np.ones((NFFT, NFFT))\n",
        "    n=1\n",
        "    while n < NFFT:\n",
        "        for i in range(n):\n",
        "            for j in range(n):\n",
        "                A[i+n, j] = A[i, j]\n",
        "                A[i, j+n] = A[i, j]\n",
        "                A[i+n, j+n] = -A[i, j]\n",
        "        n*=2\n",
        "    A = A/(np.sqrt(NFFT))\n",
        "    Au = A[[u], :]\n",
        "    Av = A[[v], :]\n",
        "    B = Au.T@Av\n",
        "    if im is not None: return B, Au@im@Av.T\n",
        "    else:              return B\n",
        "def basis_haar(u, v, NFFT, im=None):\n",
        "    A = np.zeros((NFFT, NFFT))\n",
        "    M = np.array([1, -1]) #Mother wavelet\n",
        "    scale_ix = 0\n",
        "    shift_ix = 0\n",
        "    for k in range(NFFT):\n",
        "        scale = NFFT//(2**scale_ix)\n",
        "        shift=shift_ix*len(M)\n",
        "        for j in range(NFFT):\n",
        "            ix = j//scale-shift\n",
        "            A[k,j] = M[ix] if 0 <= ix and ix<=1 else 0\n",
        "        if ix <= len(M): #Have I finished rotating all the coefficients of the mother wave?\n",
        "            scale_ix += 1\n",
        "            shift_ix = 0\n",
        "        else:\n",
        "            shift_ix += 1\n",
        "    #Normalize\n",
        "    for i in range(NFFT):\n",
        "        A[i, :] /= np.sqrt(np.sum(A[i,:]**2))\n",
        "    \n",
        "    Au = A[[u],:]\n",
        "    Av = A[[v],:]\n",
        "    B = Au.T@Av\n",
        "    if im is not None: return B, Au@im@Av.T\n",
        "    else:              return B\n",
        "\n",
        "# TEST IMAGES\n",
        "# im_1 = [[1.,2,3,4,5,6,7,8],[10,20,30,40,50,60,70,80],[100,200,300,400,500,600,700,800],[1E3,2E3,3E3,4E3,5E3,6E3,7E3,8E3],[1E4,2E4,3E4,4E4,5E4,6E4,7E4,8E4],[1E5,2E5,3E5,4E5,5E5,6E5,7E5,8E5],[1E6,2E6,3E6,4E6,5E6,6E6,7E6,8E6],[1E7,2E7,3E7,4E7,5E7,6E7,7E7,8E7]]\n",
        "# im_2 = [[0,0,0,0,0,0,0,0],[0,0,0,0,0,0,0,0],[0,0,0,0,0,0,0,0],[0,0,0,1,1,0,0,0],[0,0,0,1,1,0,0,0],[0,0,0,0,0,0,0,0],[0,0,0,0,0,0,0,0],[0,0,0,0,0,0,0,0]]\n",
        "# im = np.array(im_2)\n",
        "\n",
        "# Just Plot the basis\n",
        "# plt.imshow(basis_spatial(0,2, 8), cmap='gray');\n",
        "# plt.imshow(basis_fourier(1,0, 8), cmap='gray');\n",
        "# plt.imshow(basis_cosine(1,1, 8), cmap='gray');\n",
        "# plt.imshow(basis_sine(0,0, 8), cmap='gray');\n",
        "# plt.imshow(basis_hadamard(0,4,8), cmap='gray')\n",
        "# plt.imshow(basis_haar(1,0,8), cmap='gray')\n",
        "\n",
        "# Plot the basis and projection to an image\n",
        "# B, c = basis_spatial(4, 2, 8, im=im)\n",
        "# B, c = basis_fourier(2, 2, 8, im=im)\n",
        "# B, c = basis_cosine(1, 0, 8, im=im)\n",
        "# B, c = basis_sine(0, 0, 8, im=im)\n",
        "# print(np.abs(c[0,0]), c)\n",
        "# plt.imshow(im, cmap='gray')\n",
        "# plt.imshow(B, cmap='gray')\n",
        "# Plot off\n",
        "plt.axis('off');"
      ],
      "metadata": {
        "id": "-4zn5WpHCec1",
        "outputId": "58fa406f-d622-4362-a281-53b6d1dfab1b",
        "colab": {
          "base_uri": "https://localhost:8080/",
          "height": 406
        }
      },
      "execution_count": 612,
      "outputs": [
        {
          "output_type": "display_data",
          "data": {
            "text/plain": [
              "<Figure size 640x480 with 1 Axes>"
            ],
            "image/png": "[encoded data removed]"
          },
          "metadata": {}
        }
      ]
    },
    {
      "cell_type": "code",
      "source": [
        "plt.style.use('dark_background')\n",
        "#@markdown Plot each 2D-basis for each transform\n",
        "spatial = False #@param {'type':'boolean'}\n",
        "fourier = False #@param {'type':'boolean'}\n",
        "cosine = False #@param {'type':'boolean'}\n",
        "sine = False #@param {'type':'boolean'}\n",
        "hadamart = False #@param {'type':'boolean'}\n",
        "haar = True #@param {'type':'boolean'}\n",
        "# Spatial Basis\n",
        "if spatial:\n",
        "    fig, ax = plt.subplots(NFFT, NFFT, figsize=(10, 10))\n",
        "    for x in range(NFFT):\n",
        "        for y in range(NFFT):\n",
        "            ax[x,y].imshow(basis_spatial(x, y, NFFT), cmap='bone')\n",
        "            ax[x,y].set_xticks([])\n",
        "            ax[x,y].set_yticks([])\n",
        "    fig.suptitle('Spatial Basis')\n",
        "    ax[ 0, 0].set_title('basis(0,0)')\n",
        "    ax[ 0, 4].set_title('basis(0,4)')\n",
        "    ax[ 0, 7].set_title('basis(0,7)')\n",
        "# Fourier Basis\n",
        "if fourier:\n",
        "    fig, ax = plt.subplots(NFFT, NFFT, figsize=(10, 10))\n",
        "    for x in range(NFFT):\n",
        "        for y in range(NFFT):\n",
        "            ax[x,y].imshow(basis_fourier(x, y, NFFT), cmap='bone',vmin=-1, vmax=1)\n",
        "            ax[x,y].axis('off')\n",
        "    fig.suptitle('Fourier Basis')\n",
        "    ax[ 0, 0].set_title('basis(0,0)')\n",
        "    ax[ 0, 4].set_title('basis(0,4)')\n",
        "    ax[ 0, 7].set_title('basis(0,7)')\n",
        "# Cosine Basis\n",
        "if cosine:\n",
        "    fig, ax = plt.subplots(NFFT, NFFT, figsize=(10, 10))\n",
        "    for x in range(NFFT):\n",
        "        for y in range(NFFT):\n",
        "            ax[x,y].imshow(basis_cosine(x, y, NFFT), cmap='bone')\n",
        "            ax[x,y].axis('off')\n",
        "    fig.suptitle('Cosine Basis')\n",
        "    ax[ 0, 0].set_title('basis(0,0)')\n",
        "    ax[ 0, 4].set_title('basis(0,4)')\n",
        "    ax[ 0, 7].set_title('basis(0,7)')\n",
        "# Cosine Basis\n",
        "if sine:\n",
        "    fig, ax = plt.subplots(NFFT, NFFT, figsize=(10, 10))\n",
        "    for x in range(NFFT):\n",
        "        for y in range(NFFT):\n",
        "            ax[x,y].imshow(basis_sine(x, y, NFFT), cmap='bone')\n",
        "            ax[x,y].axis('off')\n",
        "    fig.suptitle('Sine Basis')\n",
        "    ax[ 0, 0].set_title('basis(0,0)')\n",
        "    ax[ 0, 4].set_title('basis(0,4)')\n",
        "    ax[ 0, 7].set_title('basis(0,7)')\n",
        "if hadamart:\n",
        "    fig, ax = plt.subplots(NFFT, NFFT, figsize=(10, 10))\n",
        "    for x in range(NFFT):\n",
        "        for y in range(NFFT):\n",
        "            ax[x,y].imshow(basis_hadamard(x, y, NFFT), cmap='bone')\n",
        "            ax[x,y].axis('off')\n",
        "    fig.suptitle('Hadamart Basis')\n",
        "    ax[ 0, 0].set_title('basis(0,0)')\n",
        "    ax[ 0, 4].set_title('basis(0,4)')\n",
        "    ax[ 0, 7].set_title('basis(0,7)')\n",
        "if haar:\n",
        "    fig, ax = plt.subplots(NFFT, NFFT, figsize=(10, 10))\n",
        "    for x in range(NFFT):\n",
        "        for y in range(NFFT):\n",
        "            ax[x,y].imshow(basis_haar(x, y, NFFT), cmap='bone')\n",
        "            ax[x,y].axis('off')\n",
        "    fig.suptitle('Haar Basis')\n",
        "    ax[ 0, 0].set_title('basis(0,0)')\n",
        "    ax[ 0, 4].set_title('basis(0,4)')\n",
        "    ax[ 0, 7].set_title('basis(0,7)');"
      ],
      "metadata": {
        "cellView": "form",
        "id": "X8OPkveeCYgD"
      },
      "execution_count": null,
      "outputs": []
    },
    {
      "cell_type": "markdown",
      "source": [
        "Image projected into the basis"
      ],
      "metadata": {
        "id": "OkfTP2vzWny2"
      }
    },
    {
      "cell_type": "code",
      "source": [
        "plt.style.use('dark_background')\n",
        "spatial = False #@param {'type':'boolean'}\n",
        "fourier = False #@param {'type':'boolean'}\n",
        "cosine = False #@param {'type':'boolean'}\n",
        "sine = False #@param {'type':'boolean'}\n",
        "hadamart = False #@param {'type':'boolean'}\n",
        "haar = True #@param {'type':'boolean'}\n",
        "# Spatial Basis\n",
        "if spatial:\n",
        "    fig, ax = plt.subplots(NFFT, NFFT, figsize=(10, 10))\n",
        "    for x in range(NFFT):\n",
        "        for y in range(NFFT):\n",
        "            ax[x,y].imshow(basis_spatial(x, y, NFFT), cmap='bone')\n",
        "            ax[x,y].set_xticks([])\n",
        "            ax[x,y].set_yticks([])\n",
        "    fig.suptitle('Spatial Basis')\n",
        "    ax[ 0, 0].set_title('basis(0,0)')\n",
        "    ax[ 0, 4].set_title('basis(0,4)')\n",
        "    ax[ 0, 7].set_title('basis(0,7)')\n",
        "# Fourier Basis\n",
        "if fourier:\n",
        "    fig, ax = plt.subplots(NFFT, NFFT, figsize=(10, 10))\n",
        "    for x in range(NFFT):\n",
        "        for y in range(NFFT):\n",
        "            ax[x,y].imshow(basis_fourier(x, y, NFFT), cmap='bone',vmin=-1, vmax=1)\n",
        "            ax[x,y].axis('off')\n",
        "    fig.suptitle('Fourier Basis')\n",
        "    ax[ 0, 0].set_title('basis(0,0)')\n",
        "    ax[ 0, 4].set_title('basis(0,4)')\n",
        "    ax[ 0, 7].set_title('basis(0,7)')\n",
        "# Cosine Basis\n",
        "if cosine:\n",
        "    fig, ax = plt.subplots(NFFT, NFFT, figsize=(10, 10))\n",
        "    for x in range(NFFT):\n",
        "        for y in range(NFFT):\n",
        "            ax[x,y].imshow(basis_cosine(x, y, NFFT), cmap='bone')\n",
        "            ax[x,y].axis('off')\n",
        "    fig.suptitle('Cosine Basis')\n",
        "    ax[ 0, 0].set_title('basis(0,0)')\n",
        "    ax[ 0, 4].set_title('basis(0,4)')\n",
        "    ax[ 0, 7].set_title('basis(0,7)')\n",
        "# Cosine Basis\n",
        "if sine:\n",
        "    fig, ax = plt.subplots(NFFT, NFFT, figsize=(10, 10))\n",
        "    for x in range(NFFT):\n",
        "        for y in range(NFFT):\n",
        "            ax[x,y].imshow(basis_sine(x, y, NFFT), cmap='bone')\n",
        "            ax[x,y].axis('off')\n",
        "    fig.suptitle('Sine Basis')\n",
        "    ax[ 0, 0].set_title('basis(0,0)')\n",
        "    ax[ 0, 4].set_title('basis(0,4)')\n",
        "    ax[ 0, 7].set_title('basis(0,7)')\n",
        "if hadamart:\n",
        "    fig, ax = plt.subplots(NFFT, NFFT, figsize=(10, 10))\n",
        "    for x in range(NFFT):\n",
        "        for y in range(NFFT):\n",
        "            ax[x,y].imshow(basis_hadamard(x, y, NFFT), cmap='bone')\n",
        "            ax[x,y].axis('off')\n",
        "    fig.suptitle('Hadamart Basis')\n",
        "    ax[ 0, 0].set_title('basis(0,0)')\n",
        "    ax[ 0, 4].set_title('basis(0,4)')\n",
        "    ax[ 0, 7].set_title('basis(0,7)')\n",
        "if haar:\n",
        "    fig, ax = plt.subplots(NFFT, NFFT, figsize=(10, 10))\n",
        "    for x in range(NFFT):\n",
        "        for y in range(NFFT):\n",
        "            ax[x,y].imshow(basis_haar(x, y, NFFT), cmap='bone')\n",
        "            ax[x,y].axis('off')\n",
        "    fig.suptitle('Haar Basis')\n",
        "    ax[ 0, 0].set_title('basis(0,0)')\n",
        "    ax[ 0, 4].set_title('basis(0,4)')\n",
        "    ax[ 0, 7].set_title('basis(0,7)')"
      ],
      "metadata": {
        "id": "4Ay2utjOWmlF",
        "outputId": "4091b853-ab2e-444e-a80d-5d6d74c21b34",
        "colab": {
          "base_uri": "https://localhost:8080/",
          "height": 907
        }
      },
      "execution_count": 446,
      "outputs": [
        {
          "output_type": "display_data",
          "data": {
            "text/plain": [
              "<Figure size 1000x1000 with 64 Axes>"
            ],
            "image/png": "[encoded data removed]"
          },
          "metadata": {}
        }
      ]
    }
  ]
}