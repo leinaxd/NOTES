{
  "nbformat": 4,
  "nbformat_minor": 0,
  "metadata": {
    "colab": {
      "provenance": [],
      "authorship_tag": "ABX9TyMnspN/blPO/HmlbyDel1We",
      "include_colab_link": true
    },
    "kernelspec": {
      "name": "python3",
      "display_name": "Python 3"
    },
    "language_info": {
      "name": "python"
    }
  },
  "cells": [
    {
      "cell_type": "markdown",
      "metadata": {
        "id": "view-in-github",
        "colab_type": "text"
      },
      "source": [
        "<a href=\"https://colab.research.google.com/github/leinaxd/NOTES/blob/main/digital_image_processing/notebooks/11a_boundary_following.ipynb\" target=\"_parent\"><img src=\"https://colab.research.google.com/assets/colab-badge.svg\" alt=\"Open In Colab\"/></a>"
      ]
    },
    {
      "cell_type": "markdown",
      "source": [
        "Boundary following"
      ],
      "metadata": {
        "id": "CIniehdLojH6"
      }
    },
    {
      "cell_type": "code",
      "source": [
        "shape_1 = np.array(\n",
        "    [[0,0,0,0,0,0,0,0],\n",
        "     [0,0,1,1,1,1,0,0],\n",
        "     [0,1,0,0,1,0,0,0],\n",
        "     [0,0,1,0,1,0,0,0],\n",
        "     [0,1,0,0,1,0,0,0],\n",
        "     [0,1,1,1,1,0,0,0],\n",
        "     [0,0,0,0,0,0,0,0]])\n",
        "\n",
        "abs_coding_1 = np.array([0,0,0,5,6,6,6,4,4,4,2,1,3,1])\n",
        "rel_coding_1 = np.array([0,0,5,1,0,0,6,0,0,6,7,2,6,7])\n",
        "\n",
        "shape_2 = np.array(\n",
        "    [[0,0,0,0,0,0,0,0,0,0,0,0,0,0,0,0,0,0,0,0,0,0,0,0,0,0],\n",
        "     [0,0,0,0,0,0,0,0,0,0,1,1,1,1,1,1,1,1,1,1,1,1,0,0,0,0],\n",
        "     [0,0,0,0,0,0,0,0,1,1,0,0,0,0,0,0,0,0,0,0,0,0,1,0,0,0],\n",
        "     [0,0,0,0,0,0,0,1,0,0,0,0,0,0,0,0,0,0,0,0,0,0,0,1,0,0],\n",
        "     [0,0,0,0,0,0,1,0,0,0,0,0,0,0,0,0,0,0,0,0,0,0,0,0,1,0],\n",
        "     [0,0,0,0,0,1,0,0,0,0,0,0,0,0,0,0,0,0,0,0,0,0,0,0,1,0],\n",
        "     [0,0,0,0,0,0,1,1,1,0,0,0,0,0,0,0,0,0,0,0,0,0,1,1,0,0],\n",
        "     [0,0,0,0,0,0,0,0,0,1,0,0,0,0,0,0,0,0,0,1,1,1,0,0,0,0],\n",
        "     [0,0,0,0,0,0,0,0,0,0,1,0,0,0,0,1,1,1,1,0,0,0,0,0,0,0],\n",
        "     [0,0,0,0,0,0,0,0,0,1,0,0,0,1,1,0,0,0,0,0,0,0,0,0,0,0],\n",
        "     [0,0,0,0,0,0,0,1,1,0,0,0,0,1,0,0,0,0,0,0,0,0,0,0,0,0],\n",
        "     [0,0,0,0,0,0,1,0,0,0,0,0,1,0,0,0,0,0,0,0,0,0,0,0,0,0],\n",
        "     [0,0,0,0,0,1,0,0,0,0,0,0,0,1,0,0,0,0,0,0,0,0,0,0,0,0],\n",
        "     [0,0,0,0,1,0,0,0,0,0,0,0,0,0,1,1,1,1,0,0,0,0,0,0,0,0],\n",
        "     [0,0,0,1,0,0,0,0,0,0,0,0,0,0,0,0,0,0,1,1,0,0,0,0,0,0],\n",
        "     [0,0,1,0,0,0,0,0,0,0,0,0,0,0,0,0,0,0,0,0,1,0,0,0,0,0],\n",
        "     [0,0,1,0,0,0,0,0,0,0,0,0,0,0,0,0,0,0,0,0,0,1,0,0,0,0],\n",
        "     [0,0,1,0,0,0,0,0,0,0,0,0,0,0,0,0,0,0,0,0,0,1,0,0,0,0],\n",
        "     [0,1,0,0,0,0,0,0,0,0,1,0,0,0,0,0,0,0,0,0,1,0,0,0,0,0],\n",
        "     [0,1,0,0,0,0,0,0,0,1,0,1,1,1,1,1,1,1,1,1,0,0,0,0,0,0],\n",
        "     [0,1,0,0,0,0,0,0,1,0,0,0,0,0,0,0,0,0,0,0,0,0,0,0,0,0],\n",
        "     [0,1,0,0,0,0,0,1,0,0,0,0,0,0,0,0,0,0,0,0,0,0,0,0,0,0],\n",
        "     [0,0,1,0,0,0,1,0,0,0,0,0,0,0,0,0,0,0,0,0,0,0,0,0,0,0],\n",
        "     [0,0,1,0,1,1,0,0,0,0,0,0,0,0,0,0,0,0,0,0,0,0,0,0,0,0],\n",
        "     [0,0,0,1,0,0,0,0,0,0,0,0,0,0,0,0,0,0,0,0,0,0,0,0,0,0],\n",
        "     [0,0,0,0,0,0,0,0,0,0,0,0,0,0,0,0,0,0,0,0,0,0,0,0,0,0]])\n",
        "\n",
        "abs_coding_2 = np.array([0,0,0,0, 0,0,0,0, 0,0,0,7, 7,7,6,5, 4,5,4,4, 5,4,4,4, 5,5,5,7, 7,0,0,0, 7,0,7,7, 6,5,5,4, 4,4,4,4, 4,4,4,3, 5,5,5,5, 5,4,5,3, 2,3,2,2, 2,1,2,2, 1,1,1,1, 1,0,1,1, 3,3,4,4, 3,1,1,1, 0])\n",
        "rel_coding_2 = np.mod(abs_coding_2[1:]-abs_coding_2[:-1], 8)\n",
        "start = (1,10) #calculated automatically (first non 0)\n",
        "\n",
        "# Example usage\n",
        "shape_3 = np.array(\n",
        "    [[0, 0, 0, 0, 0, 0, 0, 0, 0, 0],\n",
        "     [0, 1, 1, 1, 1, 0, 0, 0, 0, 0],\n",
        "     [0, 1, 0, 0, 1, 0, 0, 0, 0, 0],\n",
        "     [0, 1, 0, 0, 1, 0, 0, 0, 0, 0],\n",
        "     [0, 1, 1, 1, 1, 1, 1, 1, 0, 0],\n",
        "     [0, 0, 0, 0, 0, 0, 1, 0, 0, 0],\n",
        "     [0, 0, 0, 0, 0, 0, 1, 0, 0, 0],\n",
        "     [0, 0, 0, 0, 0, 0, 1, 0, 0, 0],\n",
        "     [0, 0, 0, 0, 0, 0, 1, 0, 0, 0],\n",
        "     [0, 0, 0, 0, 0, 0, 1, 1, 1, 0]])\n",
        "\n",
        "shape_4 = np.array([ [0,0,0,0,0,0,0,0],\n",
        "                [0,0,1,0,1,0,0,0],\n",
        "                [0,1,0,1,0,1,0,0],\n",
        "                [0,0,1,0,1,0,0,0],\n",
        "                [0,0,0,0,0,0,0,0]])\n",
        "shape_5 = np.array([[0,0,0,0,0],\n",
        "                    [0,0,1,1,0],\n",
        "                    [0,1,0,1,0],\n",
        "                    [0,0,0,0,0]])\n",
        "\n",
        "plt.imshow(shape_2, cmap='gray')\n",
        "plt.axis('off');"
      ],
      "metadata": {
        "id": "_ify4bh1oqWn"
      },
      "execution_count": null,
      "outputs": []
    },
    {
      "cell_type": "markdown",
      "source": [
        "Moore's boundary following algorithm\n",
        "\n",
        "(used in cellular automata)"
      ],
      "metadata": {
        "id": "ovjDBEQa3ByD"
      }
    },
    {
      "cell_type": "code",
      "source": [
        "import numpy as np\n",
        "import matplotlib.pyplot as plt\n",
        "plt.style.use('dark_background')\n",
        "def trace_boundary(image):\n",
        "    height, width = image.shape\n",
        "    boundary = []\n",
        "    \n",
        "    # Define the clockwise Moore neighborhood relative to the center pixel\n",
        "    neighbors = [(-1,-1),(-1, 0),(-1, 1),\n",
        "                 ( 0, 1),        ( 1, 1),\n",
        "                 ( 1, 0),( 1,-1),( 0,-1)]\n",
        "\n",
        "    # scan the starting pixel\n",
        "    start_pixel = None\n",
        "    for i in range(height):\n",
        "        for j in range(width):\n",
        "            if image[i, j] == 1:\n",
        "                start_pixel = (i, j)\n",
        "                break\n",
        "        if start_pixel is not None:\n",
        "            break\n",
        "\n",
        "    if start_pixel is None: raise ValueError(\"No boundary found in the image.\")\n",
        "\n",
        "    start_direction = 7  # Initial direction (top-left)\n",
        "    current_pixel = start_pixel\n",
        "    direction = start_direction\n",
        "    before_start_pixel = (start_pixel[0]+neighbors[start_direction][0] , start_pixel[1]+neighbors[start_direction][1])\n",
        "\n",
        "    while True:\n",
        "        boundary.append(current_pixel)\n",
        "        \n",
        "        # Search for the next boundary pixel in clockwise order\n",
        "        found_next = False\n",
        "        for i in range(8):\n",
        "            neighbor_x, neighbor_y = neighbors[(direction + i) % 8]\n",
        "            current_pixel = (boundary[-1][0]+neighbor_x, boundary[-1][1]+neighbor_y)\n",
        "\n",
        "            # Handle boundary conditions\n",
        "            if current_pixel[0] < 0 or current_pixel[0] >= height or current_pixel[1] < 0 or current_pixel[1] >= width:\n",
        "                continue\n",
        "\n",
        "            if image[current_pixel] == 1:\n",
        "                #Note that i don't traverse the same point twice. \n",
        "                # i start at i+6 instead of i+5 (mirrored direction)\n",
        "                direction = (direction + i + 6) % 8\n",
        "                found_next = True\n",
        "                break\n",
        "\n",
        "        if not found_next: break\n",
        "        if current_pixel == start_pixel:\n",
        "            #i have to do one more step to check if i'm repeating the sequence\n",
        "            if (direction -1)%8 == start_direction:\n",
        "                boundary.append(current_pixel)\n",
        "                break\n",
        "\n",
        "    return boundary\n",
        "\n",
        "def abs_encode(boundary):\n",
        "    b=boundary\n",
        "    encoding = {(0,1):0, (-1,1):1, (-1,0):2, (-1,-1):3, (0,-1):4, (1,-1):5, (1,0):6, (1,1):7}\n",
        "    direction = encoding[(b[1][0]-b[0][0], b[1][1]-b[0][1])]\n",
        "    return [encoding[(b[i+1][0]-b[i][0], b[i+1][1]-b[i][1])]  for i in range(len(b)-1)]\n",
        "def rel_encode(boundary):\n",
        "    e = np.array(abs_encode(boundary))\n",
        "    return np.mod(e[1:]-e[:-1], 8)\n",
        "\n",
        "im = shape_2\n",
        "boundary = trace_boundary(im)\n",
        "print('abs encoding\\n', np.array(abs_encode(boundary)))\n",
        "print('expected abs\\n', abs_coding_2)\n",
        "print('rel encode\\n', rel_encode(boundary))\n",
        "\n",
        "# Plotting the result\n",
        "plt.imshow(im, 'gray')\n",
        "plt.plot([p[1] for p in boundary], [p[0] for p in boundary], 'r-')\n",
        "plt.axis('off');"
      ],
      "metadata": {
        "colab": {
          "base_uri": "https://localhost:8080/",
          "height": 624
        },
        "id": "I6LAWXB3JJpg",
        "outputId": "a9bbd35d-a622-49e6-c4b7-1b11947dc099"
      },
      "execution_count": 241,
      "outputs": [
        {
          "output_type": "stream",
          "name": "stdout",
          "text": [
            "abs encoding\n",
            " [0 0 0 0 0 0 0 0 0 0 0 7 7 7 6 5 4 5 4 4 5 4 4 4 5 5 5 7 7 0 0 0 7 0 7 7 6\n",
            " 5 5 4 4 4 4 4 4 4 4 3 5 5 5 5 5 4 5 3 2 3 2 2 2 1 2 2 1 1 1 1 1 0 1 1 3 3\n",
            " 4 4 3 1 1 1 0 1]\n",
            "expected abs\n",
            " [0 0 0 0 0 0 0 0 0 0 0 7 7 7 6 5 4 5 4 4 5 4 4 4 5 5 5 7 7 0 0 0 7 0 7 7 6\n",
            " 5 5 4 4 4 4 4 4 4 4 3 5 5 5 5 5 4 5 3 2 3 2 2 2 1 2 2 1 1 1 1 1 0 1 1 3 3\n",
            " 4 4 3 1 1 1 0]\n",
            "rel encode\n",
            " [0 0 0 0 0 0 0 0 0 0 7 0 0 7 7 7 1 7 0 1 7 0 0 1 0 0 2 0 1 0 0 7 1 7 0 7 7\n",
            " 0 7 0 0 0 0 0 0 0 7 2 0 0 0 0 7 1 6 7 1 7 0 0 7 1 0 7 0 0 0 0 7 1 0 2 0 1\n",
            " 0 7 6 0 0 7 1]\n"
          ]
        },
        {
          "output_type": "display_data",
          "data": {
            "text/plain": [
              "<Figure size 640x480 with 1 Axes>"
            ],
            "image/png": "[encoded data removed]"
          },
          "metadata": {}
        }
      ]
    }
  ]
}