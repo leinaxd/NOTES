{
  "nbformat": 4,
  "nbformat_minor": 0,
  "metadata": {
    "colab": {
      "provenance": [],
      "authorship_tag": "ABX9TyPPrL/p4INbvu6gHbSPpaT8",
      "include_colab_link": true
    },
    "kernelspec": {
      "name": "python3",
      "display_name": "Python 3"
    },
    "language_info": {
      "name": "python"
    }
  },
  "cells": [
    {
      "cell_type": "markdown",
      "metadata": {
        "id": "view-in-github",
        "colab_type": "text"
      },
      "source": [
        "<a href=\"https://colab.research.google.com/github/leinaxd/NOTES/blob/main/digital_image_processing/notebooks/11_edge_linking.ipynb\" target=\"_parent\"><img src=\"https://colab.research.google.com/assets/colab-badge.svg\" alt=\"Open In Colab\"/></a>"
      ]
    },
    {
      "cell_type": "code",
      "execution_count": 1,
      "metadata": {
        "id": "h2OVOHoNrW_L"
      },
      "outputs": [],
      "source": [
        "import matplotlib.pyplot as plt\n",
        "import numpy as np\n",
        "import urllib.request"
      ]
    },
    {
      "cell_type": "code",
      "source": [
        "url = \"https://github.com/leinaxd/NOTES/raw/main/digital_image_processing/notebooks/bank.jpeg\"\n",
        "with urllib.request.urlopen(url) as url:\n",
        "    img = plt.imread(url, format='jpg')\n",
        "plt.imshow(img)\n",
        "plt.axis('off')\n",
        "\n",
        "print(img.shape)"
      ],
      "metadata": {
        "id": "v32EllOSrcux"
      },
      "execution_count": null,
      "outputs": []
    },
    {
      "cell_type": "code",
      "source": [
        "r_mask = img[:, :, 0]\n",
        "g_mask = img[:, :, 1]\n",
        "b_mask = img[:, :, 2]\n",
        "\n",
        "#turn image to gray\n",
        "g_img = r_mask*0.2989 + g_mask*0.5870 + b_mask*0.1140\n",
        "u_img = np.uint8(g_img)"
      ],
      "metadata": {
        "id": "MtBeAiYiredb"
      },
      "execution_count": null,
      "outputs": []
    },
    {
      "cell_type": "markdown",
      "source": [
        "Boundary following"
      ],
      "metadata": {
        "id": "CIniehdLojH6"
      }
    },
    {
      "cell_type": "code",
      "source": [
        "shape_1 = np.array(\n",
        "    [[0,0,0,0,0,0,0,0],\n",
        "     [0,0,1,1,1,1,0,0],\n",
        "     [0,1,0,0,1,0,0,0],\n",
        "     [0,0,1,0,1,0,0,0],\n",
        "     [0,1,0,0,1,0,0,0],\n",
        "     [0,1,1,1,1,0,0,0],\n",
        "     [0,0,0,0,0,0,0,0]])\n",
        "\n",
        "abs_coding_1 = np.array([0,0,0,5,6,6,6,4,4,4,2,1,3,1])\n",
        "rel_coding_1 = np.array([0,0,5,1,0,0,6,0,0,6,7,2,6,7])\n",
        "\n",
        "shape_2 = np.array(\n",
        "    [[0,0,0,0,0,0,0,0,0,0,0,0,0,0,0,0,0,0,0,0,0,0,0,0,0,0],\n",
        "     [0,0,0,0,0,0,0,0,0,0,1,1,1,1,1,1,1,1,1,1,1,1,0,0,0,0],\n",
        "     [0,0,0,0,0,0,0,0,1,1,0,0,0,0,0,0,0,0,0,0,0,0,1,0,0,0],\n",
        "     [0,0,0,0,0,0,0,1,0,0,0,0,0,0,0,0,0,0,0,0,0,0,0,1,0,0],\n",
        "     [0,0,0,0,0,0,1,0,0,0,0,0,0,0,0,0,0,0,0,0,0,0,0,0,1,0],\n",
        "     [0,0,0,0,0,1,0,0,0,0,0,0,0,0,0,0,0,0,0,0,0,0,0,0,1,0],\n",
        "     [0,0,0,0,0,0,1,1,1,0,0,0,0,0,0,0,0,0,0,0,0,0,1,1,0,0],\n",
        "     [0,0,0,0,0,0,0,0,0,1,0,0,0,0,0,0,0,0,0,1,1,1,0,0,0,0],\n",
        "     [0,0,0,0,0,0,0,0,0,0,1,0,0,0,0,1,1,1,1,0,0,0,0,0,0,0],\n",
        "     [0,0,0,0,0,0,0,0,0,1,0,0,0,1,1,0,0,0,0,0,0,0,0,0,0,0],\n",
        "     [0,0,0,0,0,0,0,1,1,0,0,0,0,1,0,0,0,0,0,0,0,0,0,0,0,0],\n",
        "     [0,0,0,0,0,0,1,0,0,0,0,0,1,0,0,0,0,0,0,0,0,0,0,0,0,0],\n",
        "     [0,0,0,0,0,1,0,0,0,0,0,0,0,1,0,0,0,0,0,0,0,0,0,0,0,0],\n",
        "     [0,0,0,0,1,0,0,0,0,0,0,0,0,0,1,1,1,1,0,0,0,0,0,0,0,0],\n",
        "     [0,0,0,1,0,0,0,0,0,0,0,0,0,0,0,0,0,0,1,1,0,0,0,0,0,0],\n",
        "     [0,0,1,0,0,0,0,0,0,0,0,0,0,0,0,0,0,0,0,0,1,0,0,0,0,0],\n",
        "     [0,0,1,0,0,0,0,0,0,0,0,0,0,0,0,0,0,0,0,0,0,1,0,0,0,0],\n",
        "     [0,0,1,0,0,0,0,0,0,0,0,0,0,0,0,0,0,0,0,0,0,1,0,0,0,0],\n",
        "     [0,1,0,0,0,0,0,0,0,0,1,0,0,0,0,0,0,0,0,0,1,0,0,0,0,0],\n",
        "     [0,1,0,0,0,0,0,0,0,1,0,1,1,1,1,1,1,1,1,1,0,0,0,0,0,0],\n",
        "     [0,1,0,0,0,0,0,0,1,0,0,0,0,0,0,0,0,0,0,0,0,0,0,0,0,0],\n",
        "     [0,1,0,0,0,0,0,1,0,0,0,0,0,0,0,0,0,0,0,0,0,0,0,0,0,0],\n",
        "     [0,0,1,0,0,0,1,0,0,0,0,0,0,0,0,0,0,0,0,0,0,0,0,0,0,0],\n",
        "     [0,0,1,0,1,1,0,0,0,0,0,0,0,0,0,0,0,0,0,0,0,0,0,0,0,0],\n",
        "     [0,0,0,1,0,0,0,0,0,0,0,0,0,0,0,0,0,0,0,0,0,0,0,0,0,0],\n",
        "     [0,0,0,0,0,0,0,0,0,0,0,0,0,0,0,0,0,0,0,0,0,0,0,0,0,0]])\n",
        "\n",
        "abs_coding_2 = np.array([0,0,0,0, 0,0,0,0, 0,0,0,7, 7,7,6,5, 4,5,4,4, 5,4,4,4, 5,5,5,7, 7,0,0,0, 7,0,7,7, 6,5,5,4, 4,4,4,4, 4,4,4,3, 5,5,5,5, 5,4,5,3, 2,3,2,2, 2,1,2,2, 1,1,1,1, 1,0,1,1, 3,3,4,4, 3,1,1,1, 0])\n",
        "rel_coding_2 = np.mod(abs_coding_2[1:]-abs_coding_2[:-1], 8)\n",
        "start = (1,10) #calculated automatically (first non 0)\n",
        "\n",
        "plt.imshow(shape_2, cmap='gray')\n",
        "plt.axis('off');"
      ],
      "metadata": {
        "id": "_ify4bh1oqWn",
        "outputId": "bc480319-b366-46da-d13c-3d72943bbb1c",
        "colab": {
          "base_uri": "https://localhost:8080/",
          "height": 424
        }
      },
      "execution_count": 16,
      "outputs": [
        {
          "output_type": "stream",
          "name": "stdout",
          "text": [
            "[0 0 0 0 0 0 0 0 0 0 7 0 0 7 7 7 1 7 0 1]\n"
          ]
        },
        {
          "output_type": "display_data",
          "data": {
            "text/plain": [
              "<Figure size 640x480 with 1 Axes>"
            ],
            "image/png": "[encoded data removed]"
          },
          "metadata": {}
        }
      ]
    },
    {
      "cell_type": "markdown",
      "source": [
        "Moores algorithm"
      ],
      "metadata": {
        "id": "ovjDBEQa3ByD"
      }
    },
    {
      "cell_type": "code",
      "source": [],
      "metadata": {
        "id": "6fI1A3ug2-s-"
      },
      "execution_count": null,
      "outputs": []
    },
    {
      "cell_type": "markdown",
      "source": [
        "Polygon fitting"
      ],
      "metadata": {
        "id": "wlh4kH9d2_MH"
      }
    }
  ]
}